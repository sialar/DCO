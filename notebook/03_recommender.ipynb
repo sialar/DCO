{
 "cells": [
  {
   "cell_type": "markdown",
   "metadata": {},
   "source": [
    "<small><i>This notebook was create by Franck Iutzeler, Jerome Malick and Yann Vernaz (2016).</i></small>\n",
    "<!-- Credit (images) Jeffrey Keating Thompson. -->"
   ]
  },
  {
   "cell_type": "markdown",
   "metadata": {},
   "source": [
    "<center><img src=\"UGA.png\" width=\"30%\" height=\"30%\"></center>\n",
    "<center><h3>Master of Science in Industrial and Applied Mathematics (MSIAM)</h3></center>\n",
    "<hr>\n",
    "<center><h1>Convex and distributed optimization</h1></center>\n",
    "<center><h2>Part III - Recommender Systems (3h + 3h home work)</h2></center>"
   ]
  },
  {
   "cell_type": "markdown",
   "metadata": {},
   "source": [
    "# Outline\n",
    "\n",
    "In this Lab, we will investigate some gradient-based algorithms on the very well known matrix factorization problem which is the most prominent approach for build a _Recommender Systems_.\n",
    "\n",
    "Our goal is to implement Large-Scale Matrix Factorization with Distributed Stochastic Gradient Descent in Spark."
   ]
  },
  {
   "cell_type": "markdown",
   "metadata": {},
   "source": [
    "# Problem Formulation\n",
    "\n",
    "The problem of matrix factorization for collaborative filtering captured much attention, especially after the [Netflix prize](https://datajobs.com/data-science-repo/Recommender-Systems-%5BNetflix%5D.pdf). The premise behind this approach is to approximate a large rating matrix $R$ with the multiplication of two low-dimensional factor matrices $P$ and $Q$, i.e. $R \\approx \\hat{R} = P^TQ$, that model respectively users and items in some latent space. For instance, matrix $R$ has dimension $m \\times  n$ where $m$ and $n$ are restrictively the number of users and items, both large; while $P$ has size $m \\times  k$ and contains user information in a latent space of size $k<<m,n$, $Q$ has size $n\\times k$ and contains item information in the same latent space of size $k << m,n$. Typical values for $m, n$ are $10^6$ while $k$ is in the tens.\n",
    "\n",
    "For a pair of user and item $(u_i,i_j)$ for which a rating $r_{ij}$ exists, a common approach approach is based on the minimization of the $\\ell_2$-regularized quadratic error:\n",
    "$$  \\ell_{u_i,i_j}(P,Q)= \\left(r_{ij} - p_{i}^{\\top}q_{j}\\right)^2 + \\lambda(|| p_{i} ||^{2} + || q_{j} ||^2 )  $$\n",
    "where $p_i$ is the column vector composed of the $i$-th line of $P$ and  $\\lambda\\geq 0$ is a regularization parameter. The whole matrix factorization problem thus writes\n",
    "$$ \\min_{P,Q} \\sum_{i,j : r_{ij} \\text{exists}}  \\ell_{u_i,i_j}(P,Q). $$\n",
    "Note that the error $ \\ell_{u_i,i_j}(P,Q)$ depends only on $P$ and $Q$ through $p_{i}$ and $q_{j}$; however, item $i_j$ may also be rated by user $u_{i'}$ so that the optimal factor $q_{j}$ depends on both $p_{i}$ and $p_{i'}$."
   ]
  },
  {
   "cell_type": "code",
   "execution_count": 1,
   "metadata": {
    "collapsed": false
   },
   "outputs": [],
   "source": [
    "# set up spark environment (Using Spark Local Mode)\n",
    "from pyspark import SparkContext, SparkConf\n",
    "\n",
    "conf = SparkConf()\n",
    "conf.setMaster(\"local[*]\")\n",
    "conf.setAppName(\"MSIAM part III - Matrix Factorization\")\n",
    "\n",
    "sc = SparkContext(conf = conf)"
   ]
  },
  {
   "cell_type": "markdown",
   "metadata": {},
   "source": [
    "We remind you that you can access this interface by simply opening http://localhost:4040 in a web browser.\n",
    "\n",
    "We will capitalize on the first lab and take the MovieLens dataset, and thus the RDD routines we already have."
   ]
  },
  {
   "cell_type": "code",
   "execution_count": 2,
   "metadata": {
    "collapsed": false
   },
   "outputs": [
    {
     "name": "stdout",
     "output_type": "stream",
     "text": [
      "We have 1000209 ratings from 6040 users on 3706 movies.\n",
      "\n",
      "We have 6040 users, 3952 movies and the rating matrix has 4.190221 percent of non-zero value.\n",
      "\n"
     ]
    }
   ],
   "source": [
    "def parseRating(line):\n",
    "    fields = line.split('::')\n",
    "    return int(fields[0]), int(fields[1]), float(fields[2])\n",
    "\n",
    "def parseMovie(line):\n",
    "    fields = line.split(\"::\")\n",
    "    return int(fields[0]), fields[1], fields[2]\n",
    "\n",
    "# path to MovieLens dataset\n",
    "movieLensHomeDir=\"data/movielens/medium/\"\n",
    "\n",
    "\n",
    "# movies is an RDD of (movieID, title, genres)\n",
    "moviesRDD = sc.textFile(movieLensHomeDir + \"movies.dat\").map(parseMovie).setName(\"movies\").cache()\n",
    "\n",
    "# ratings is an RDD of (userID, movieID, rating)\n",
    "ratingsRDD = sc.textFile(movieLensHomeDir + \"ratings.dat\").map(parseRating).setName(\"ratings\").cache()\n",
    "\n",
    "numRatings = ratingsRDD.count()\n",
    "numUsers = ratingsRDD.map(lambda r: r[0]).distinct().count()\n",
    "numMovies = ratingsRDD.map(lambda r: r[1]).distinct().count()\n",
    "print(\"We have %d ratings from %d users on %d movies.\\n\" % (numRatings, numUsers, numMovies))\n",
    "\n",
    "M = ratingsRDD.map(lambda r: r[0]).max()\n",
    "N = ratingsRDD.map(lambda r: r[1]).max()\n",
    "matrixSparsity = float(numRatings)/float(M*N)\n",
    "print(\"We have %d users, %d movies and the rating matrix has %f percent of non-zero value.\\n\" % (M, N, 100*matrixSparsity))"
   ]
  },
  {
   "cell_type": "markdown",
   "metadata": {},
   "source": [
    "#  Gradient Descent Algorithms\n",
    "\n",
    "The goal here is to \n",
    "1. Compute gradients of the loss functions.\n",
    "2. Implement gradient algorithms.\n",
    "3. Observe the prediction accuracy of the developed methods.\n",
    "\n",
    "__Question 1__\n",
    "\n",
    "> Split (ramdomly) the dataset into training versus testing sample. We learn over 70% (for example) of the users, we test over the rest.\n",
    "\n",
    "> Define a routine that returns the predicted rating from factor matrices. Form a RDD with the following elements `(i,j,true rating,predicted rating)`. \n",
    "\n",
    "> Define a routine that returns the Mean Square Error (MSE).\n"
   ]
  },
  {
   "cell_type": "code",
   "execution_count": 3,
   "metadata": {
    "collapsed": false
   },
   "outputs": [
    {
     "name": "stdout",
     "output_type": "stream",
     "text": [
      "The number of examples in the dataset :  1000209\n",
      "The number of examples in the training dataset :  699742\n",
      "The number of examples in the testing dataset :  300467\n"
     ]
    }
   ],
   "source": [
    "import numpy as np\n",
    "\n",
    "trainingSample, testingSample = ratingsRDD.randomSplit([70, 30])\n",
    "print(\"The number of examples in the dataset : \",ratingsRDD.count())\n",
    "print(\"The number of examples in the training dataset : \",trainingSample.count())\n",
    "print(\"The number of examples in the testing dataset : \",testingSample.count())"
   ]
  },
  {
   "cell_type": "code",
   "execution_count": 4,
   "metadata": {
    "collapsed": false
   },
   "outputs": [],
   "source": [
    "# Create moviesGenresRDD, a new RDD of (genre, list_of_movies)\n",
    "genres = moviesRDD.map(lambda x : x[2]).flatMap(lambda x : x.split(\"|\")).distinct()\n",
    "\n",
    "def getGenresOfMovie(movie):\n",
    "    return moviesRDD.filter(lambda x : x[1] == movie).map(lambda y : y[2]).flatMap(lambda x : x.split(\"|\")).collect()\n",
    "    \n",
    "def getMoviesFromGenre(genre):\n",
    "    return moviesRDD.filter(lambda x : genre in x[2]).map(lambda y : y[1]).collect()\n",
    "\n",
    "genres_dict = {}\n",
    "for g in genres.collect() :\n",
    "    genres_dict_temp = {g:getMoviesFromGenre(g)}\n",
    "    genres_dict.update(genres_dict_temp)\n",
    "\n",
    "moviesGenresRDD = genres.map(lambda genre : (genre,genres_dict[genre]))\n",
    "\n",
    "##TEST\n",
    "#g = getGenresOfMovie(\"Pocahontas (1995)\")\n",
    "#print(\"Genres of movie \\\"Pocahontas (1995)\\\":\\n\",g,\"\\n\")\n",
    "#m = getMoviesFromGenre(\"Comedy\")\n",
    "#print(\"Five movies from genre \\\"Comedy\\\":\\n\",np.asarray(m)[:5],\"\\n\")\n",
    "#print(\"There are\",genres.count(),\"different genres:\\n\",genres.collect(),\"\\n\")\n",
    "#print(\"Check from dictionnary:\\n\",len(genres_dict.keys()),\"Genres:\\n\",genres_dict.keys(),\"\\n\")\n",
    "#print(\"Number of movies having \\\"Comedy\\\" in their genres :\",moviesRDD.filter(lambda x : \"Comedy\" in x[2]).count())\n",
    "#print(\"Check from dictionnary:\",len(genres_dict[\"Comedy\"]))\n",
    "#print(\"Number of movies having\",moviesGenresRDD.first()[0],\"in their genres :\",moviesRDD.filter(lambda x : \"Musical\" in x[2]).count())\n",
    "#print(\"Check from RDD, the number of movies having\",moviesGenresRDD.first()[0],\"in their genres:\",len(moviesGenresRDD.first()[1]))\n",
    "\n",
    "#genres_dict.clear()"
   ]
  },
  {
   "cell_type": "code",
   "execution_count": 22,
   "metadata": {
    "collapsed": false
   },
   "outputs": [],
   "source": [
    "# Compute Pu\n",
    "\n",
    "movies_dict = {}\n",
    "for i,title in moviesRDD.map(lambda x : (x[0],x[1])).collect():\n",
    "    movies_dict_temp = {i:title}\n",
    "    movies_dict.update(movies_dict_temp)\n",
    "\n",
    "def update_factors(movieIdListOfGenres,rating,p_u):\n",
    "    for f in movieIdListOfGenres:\n",
    "        p_u[f] = (p_u[f][0]+1, p_u[f][1] + rating)\n",
    "    return p_u\n",
    "\n",
    "def compute_final_p_u(p_u):\n",
    "    for f in genres.collect():\n",
    "        if p_u[f][0] != 0:\n",
    "            p_u[f] = (p_u[f][0]+1, p_u[f][1] / p_u[f][0])\n",
    "    return p_u\n",
    "\n",
    "def get_preferences(user,p_u):\n",
    "    pref = []\n",
    "    for g in genres.collect():\n",
    "        if p_u[g][0]>0:\n",
    "            pref.append(g)\n",
    "    return pref\n",
    "            \n",
    "\n",
    "def get_genres_list_of_movieId(movie):\n",
    "    movieTitle = movies_dict[movie]\n",
    "    #print(\"movie (id =\",movie,\"):\",movieTitle)\n",
    "    genreslist = moviesRDD.map(lambda x : x[2]).flatMap(lambda x : x.split(\"|\")).distinct()\n",
    "    return getGenresOfMovie(movieTitle)\n",
    "    \n",
    "def computePu(user,debug):\n",
    "    p_u = {}\n",
    "    for g in genres.collect() :\n",
    "        p_u_temp = {g:(0,0)} # {genre, (number of movie with that genre rated; sum of eatings; average)}\n",
    "        p_u.update(p_u_temp)\n",
    "    userRatingsRDD = trainingSample.filter(lambda x : x[0] == user)\n",
    "    userMoviesList = userRatingsRDD.map(lambda x : x[1]).collect()\n",
    "    userRatingsList = userRatingsRDD.map(lambda x : x[2]).collect()\n",
    "    if debug!=0:\n",
    "        print(\"Number of movies rated:\",len(userMoviesList))\n",
    "        print(\"Movies rated:\",userMoviesList)\n",
    "    for l in range(0,len(userMoviesList)):\n",
    "        movieIdListOfGenres = get_genres_list_of_movieId(userMoviesList[l])\n",
    "        rating = userRatingsList[l]\n",
    "        p_u = update_factors(movieIdListOfGenres,rating,p_u)\n",
    "    p_u = compute_final_p_u(p_u)\n",
    "    if debug!=0:\n",
    "        print(\"User preferences :\\n\",get_preferences(user,p_u))\n",
    "    return p_u\n",
    "    \n",
    "usersList = trainingSample.map(lambda r: r[0]).distinct().collect()"
   ]
  },
  {
   "cell_type": "code",
   "execution_count": 23,
   "metadata": {
    "collapsed": false
   },
   "outputs": [],
   "source": [
    "# Compute Qi\n",
    "\n",
    "def occurance(_list,x):\n",
    "    nb=0\n",
    "    for i in _list:\n",
    "        if i == x:\n",
    "            nb = nb + 1\n",
    "    return nb\n",
    "\n",
    "def parseGenres(genres):\n",
    "    fields = genres.split(\"|\")\n",
    "    return fields\n",
    "\n",
    "a = moviesRDD.map(lambda x : x[2]).distinct().map(lambda x : parseGenres(x))\n",
    "\n",
    "def brothers(genre):\n",
    "    brothersList = []\n",
    "    for genresList in a.collect():\n",
    "        if genre in genresList:\n",
    "            for newGenre in genresList:\n",
    "                if newGenre not in brothersList:\n",
    "                    brothersList.append(newGenre)\n",
    "    return brothersList\n",
    "    \n",
    "def notBrothers(genre):\n",
    "    notBrothersList = []\n",
    "    for g in genres.collect():\n",
    "        if genre not in brothers(g):\n",
    "            notBrothersList.append(g)      \n",
    "    return notBrothersList\n",
    "\n",
    "def computeQi(item,debug):\n",
    "    q_i = {}\n",
    "    for g in genres.collect() :\n",
    "        q_i_temp = {g:0} \n",
    "        q_i.update(q_i_temp)\n",
    "        \n",
    "    itemGenres = get_genres_list_of_movieId(item)\n",
    "    _list = []\n",
    "    final_list = []\n",
    "    for genre in itemGenres:\n",
    "        q_i[genre] = 1/len(itemGenres)\n",
    "        for g in notBrothers(genre):\n",
    "            _list.append(g)            \n",
    "    for i in genres.collect():\n",
    "        if (occurance(_list,i)==len(itemGenres)):\n",
    "            final_list.append(i)\n",
    "    \n",
    "    for j in final_list:\n",
    "        q_i[j] = -1/(len(final_list)+len(itemGenres))\n",
    "    return q_i       \n",
    "    \n",
    "itemsList = moviesRDD.map(lambda r: r[0]).distinct().collect()"
   ]
  },
  {
   "cell_type": "code",
   "execution_count": 24,
   "metadata": {
    "collapsed": false
   },
   "outputs": [],
   "source": [
    "# Compute predictive rating\n",
    "def dict2list(dic,col):\n",
    "\n",
    "    index = 0\n",
    "    _list = np.zeros(18)\n",
    "    for f in genres.collect():\n",
    "        if col != 0:\n",
    "            _list[index] = dic[f][col]\n",
    "        else:\n",
    "            _list[index] = dic[f]\n",
    "        index = index + 1\n",
    "    return _list\n",
    "\n",
    "def computePS_u_i(item,user,debug):\n",
    "    if debug!=0:\n",
    "        print(\"All genres:\\n\",genres.collect(),\"\\n\")\n",
    "        print(\"User =\",user) \n",
    "        print(\"Movie =\",item,\":\",movies_dict[item])\n",
    "\n",
    "    Pu = dict2list(computePu(user,debug),1)\n",
    "    Qi = dict2list(computeQi(item,debug),0)\n",
    "\n",
    "    if debug!=0:\n",
    "        print(\"\\nPu = \\n\",Pu) \n",
    "        print(\"\\nQi =\\n\",Qi)\n",
    "\n",
    "    ps = np.vdot(Pu,Qi)\n",
    "    if debug!=0:\n",
    "        print(\"\\nDot product =\",ps)\n",
    "\n",
    "    realRating = trainingSample.filter(lambda x : x[0]==user).filter(lambda x : x[1]==item).collect()\n",
    "    if debug!=0:\n",
    "        print(\"True rating =\",realRating)\n",
    "    return ps\n",
    "\n",
    "#ps = computePS_u_i(1378,453,1)\n",
    "#ps = computePS_u_i(2692,68,1)\n",
    "#print(ps)"
   ]
  },
  {
   "cell_type": "code",
   "execution_count": 52,
   "metadata": {
    "collapsed": false
   },
   "outputs": [
    {
     "name": "stdout",
     "output_type": "stream",
     "text": [
      "pi =\n",
      " [ 4.45454545  4.          0.          4.3125      0.          4.5\n",
      "  3.66666667  4.          4.          0.          3.75        3.66666667\n",
      "  0.          4.          5.          4.125       0.          4.09090909] \n",
      "\n",
      "qj =\n",
      " [ 0.          0.          0.          0.33333333  0.          0.          0.\n",
      "  0.          0.          0.          0.          0.          0.          0.\n",
      "  0.          0.33333333  0.          0.33333333] \n",
      "\n",
      "Real rating : 5.0\n",
      "Predicted rating : 4.17613636364\n",
      "Mean Square Error = 0.678751291322\n"
     ]
    }
   ],
   "source": [
    "# Build factorization matrix\n",
    "\n",
    "m = len(usersList)\n",
    "n = len(itemsList)\n",
    "m = 5\n",
    "n = 5\n",
    "\n",
    "def buildFactMatrix(n,m):\n",
    "    print(\"m =\",m,\"n =\",n)\n",
    "    factMatrix = np.eye(m,n)\n",
    "    for u in range(0,m):\n",
    "        for i in range(0,n):\n",
    "            item = itemsList[i]\n",
    "            user = usersList[u]\n",
    "            factMatrix[u][i] = computePS_u_i(item,user,0)\n",
    "            print(round(factMatrix[u][i],1),end = ' ')\n",
    "        print(\"\\n\",end = '')\n",
    "    return factMatrix\n",
    "\n",
    "def MSE(user,item,lamb):\n",
    "    pi = []\n",
    "    qj = []\n",
    "    #pi = dict2list(computePu(usersList[i],0),1)\n",
    "    pi = dict2list(computePu(user,0),1)\n",
    "    print(\"pi =\\n\",pi,\"\\n\")\n",
    "    #qj = dict2list(computeQi(itemsList[j],0),0)\n",
    "    qj = dict2list(computeQi(item,0),0)\n",
    "    print(\"qj =\\n\",qj,\"\\n\")\n",
    "    #rij = trainingSample.filter(lambda x : x[0] == usersList[i]).filter(lambda y : y[1] == itemsList[j]).collect()\n",
    "    rij = trainingSample.filter(lambda x : x[0] == user).filter(lambda y : y[1] == item).map(lambda z : z[2]).collect()[0]\n",
    "    rijHat = np.vdot(pi,qj)\n",
    "    print(\"Real rating :\",rij)\n",
    "    print(\"Predicted rating :\",rijHat)\n",
    "    e = pow(rij - rijHat,2) + lamb * (pow(np.linalg.norm(pi,2),2) + pow(np.linalg.norm(qj,2),2))\n",
    "    return e\n",
    "\n",
    "print(\"Mean Square Error =\", MSE(1,1,0))"
   ]
  },
  {
   "cell_type": "markdown",
   "metadata": {},
   "source": [
    "$$  \\ell_{u_i,i_j}(P,Q)= \\left(r_{ij} - p_{i}^{\\top}q_{j}\\right)^2 + \\lambda(|| p_{i} ||^{2} + || q_{j} ||^2 )  $$\n",
    "\n",
    "__Question 2__\n",
    "\n",
    "> Derive the update rules for gradient descent. \n",
    "\n",
    "> Implement a (full) gradient algorithm in `Python` on the training set.  Take a step size (learning rate) $\\gamma=0.001$ and stop after a specified number of iterations. Investigate the latent space size (e.g. $K=2,5,10,50$).\n",
    "\n",
    "> Provide plots and explanations for your experiments. \n",
    "\n",
    "> Try to parrallelize it so that the code can be run using `PySpark`. What do you conclude?\n",
    "\n",
    "Stochastic Gradient Descent (SGD) simply does away with the expectation in the update and computes the gradient of the parameters using only a single or a few training examples. In SGD the learning rate $\\gamma$ is typically much smaller than a corresponding learning rate in batch gradient descent because there is much more variance in the update."
   ]
  },
  {
   "cell_type": "code",
   "execution_count": null,
   "metadata": {
    "collapsed": true
   },
   "outputs": [],
   "source": []
  },
  {
   "cell_type": "markdown",
   "metadata": {},
   "source": [
    "__Question 3__\n",
    "> Implement stochastic gradient descent algorithm for Matrix Factorization.\n",
    "\n",
    "> Provide plots and explanations for your experiments.\n",
    "\n",
    "> Compare and discuss the results with the (full) gradient algorithm in terms of MSE versus full data passes.\n",
    "\n",
    "> Discuss the stepsize choice of SGD (e.g. constant v.s. 1/`nb_iter`)."
   ]
  },
  {
   "cell_type": "code",
   "execution_count": null,
   "metadata": {
    "collapsed": true
   },
   "outputs": [],
   "source": []
  },
  {
   "cell_type": "markdown",
   "metadata": {},
   "source": [
    "Now we will implement Large-Scale Matrix Factorization with Distributed Stochastic Gradient Descent (DSGD) in Spark. \n",
    "The algorithm is described in the following article: <br \\><br \\>\n",
    "_Gemulla, R., Nijkamp, E., Haas, P. J., & Sismanis, Y. (2011). Large-scale matrix factorization with distributed stochastic gradient descent. New York, USA._<br \\><br \\>\n",
    "The paper sets forth a solution for matrix factorization using minimization of sum of local losses.  The solution involves dividing the matrix into strata for each iteration and performing sequential stochastic gradient descent within each stratum in parallel.  DSGD is a fully distributed algorithm, i.e. both the data matrix $R$ and factor matrices $P$ and $Q$ can be carefully split and distributed to multiple workers for parallel computation without communication costs between the workers. Hence, it is a good match for implementation in a distributed in-memory data processing system like Spark. \n",
    "\n",
    "__Question 4__\n",
    "\n",
    "> Implement a `PySpark` version of DSGD.\n",
    "\n",
    "> Test on different number of cores on a local machine (1 core, 2 cores, 4 cores). Ran the ALS method already implemented in MLlib as a reference for comparison."
   ]
  },
  {
   "cell_type": "code",
   "execution_count": null,
   "metadata": {
    "collapsed": true
   },
   "outputs": [],
   "source": []
  }
 ],
 "metadata": {
  "kernelspec": {
   "display_name": "Python 3",
   "language": "python",
   "name": "python3"
  },
  "language_info": {
   "codemirror_mode": {
    "name": "ipython",
    "version": 3
   },
   "file_extension": ".py",
   "mimetype": "text/x-python",
   "name": "python",
   "nbconvert_exporter": "python",
   "pygments_lexer": "ipython3",
   "version": "3.5.2"
  }
 },
 "nbformat": 4,
 "nbformat_minor": 0
}
