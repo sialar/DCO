{
 "cells": [
  {
   "cell_type": "markdown",
   "metadata": {},
   "source": [
    "<small><i>This notebook was created by Franck Iutzeler, Jerome Malick and Yann Vernaz (2016).</i></small>\n",
    "<!-- Credit (images) Jeffrey Keating Thompson. -->"
   ]
  },
  {
   "cell_type": "markdown",
   "metadata": {},
   "source": [
    "<center><img src=\"UGA.png\" width=\"30%\" height=\"30%\"></center>\n",
    "<center><h3>Master of Science in Industrial and Applied Mathematics (MSIAM)</h3></center>\n",
    "<hr>\n",
    "<center><h1>Convex and distributed optimization</h1></center>\n",
    "<center><h2>Part II - Classification (3h + 3h home work)</h2></center>"
   ]
  },
  {
   "cell_type": "markdown",
   "metadata": {},
   "source": [
    "# Outline\n",
    "\n",
    "In this Lab, we will investigate some gradient-based and proximal algorithms on the binary classification problems with logistic regression."
   ]
  },
  {
   "cell_type": "markdown",
   "metadata": {},
   "source": [
    "# Supervised Classification and Logistic Regression\n",
    "\n",
    "### Machine Learning as an Optimization problem\n",
    "\n",
    "We have some *data*  $\\mathcal{D}$ consisting of $m$ *examples* $\\{d_i\\}$; each example consisting of a *feature* vector $a_i\\in\\mathbb{R}^d$ and an *observation* $b_i\\in \\mathcal{O}$: $\\mathcal{D} = \\{[a_i,b_i]\\}_{i=1..m}$ .\n",
    "\n",
    "\n",
    "The goal of *supervised learning* is to construct a predictor for the observations when given feature vectors.\n",
    "\n",
    "\n",
    "A popular approach is based on *linear models* which are based on finding a *parameter* $x$ such that the real number $\\langle a_i , x \\rangle$ is used to predict the value of the observation through a *predictor function* $g:\\mathbb{R}\\to \\mathcal{O}$: $g(\\langle a_i , x \\rangle)$ is the predicted value from $a_i$.\n",
    "\n",
    "\n",
    "In order to find such a parameter, we use the available data and a *loss* $\\ell$ that penalizes the error made between the predicted $g(\\langle a_i , x \\rangle)$ and observed $b_i$ values. For each example $i$, the corresponding error function for a parameter $x$ is $f_i(x) =   \\ell( g(\\langle a_i , x \\rangle) ; b_i )$. Using the whole data, the parameter that minimizes the total error is the solution of the minimization problem\n",
    "$$ \\min_{x\\in\\mathbb{R}^d} \\frac{1}{m} \\sum_{i=1}^m f_i(x) = \\frac{1}{m} \\sum_{i=1}^m  \\ell( g(\\langle a_i , x \\rangle) ; b_i ). $$\n",
    "\n",
    "\n",
    "### Binary Classification with Logisitic Regression\n",
    "\n",
    "In our setup, the observations are binary: $\\mathcal{O} = \\{-1 , +1 \\}$, and the *Logistic loss* is used to form the following optimization problem\n",
    "\\begin{align*}\n",
    "\\min_{x\\in\\mathbb{R}^d } f(x) := \\frac{1}{m}  \\sum_{i=1}^m  \\log( 1+\\exp(-b_i \\langle a_i,x \\rangle) ).\n",
    "\\end{align*}\n",
    "\n",
    "Under some statistical hypotheses, $x^\\star = \\arg\\min f(x)$ maximizes the likelihood of the labels knowing the features vector. Then, for a new point $d$ with features vector $a$, \n",
    "$$ p_1(a) = \\mathbb{P}[d\\in \\text{ class }  +1] = \\frac{1}{1+\\exp(-\\langle a;x^\\star \\rangle)} $$\n",
    "Thus, from $a$, if $p_1(a)$ is close to $1$, one can decide that $d$ belongs to class $1$; and the opposite decision if $p(a)$ is close to $0$. Between the two, the appreciation is left to the data scientist depending on the application.\n"
   ]
  },
  {
   "cell_type": "markdown",
   "metadata": {},
   "source": [
    "# Supervised classification datasets\n",
    "\n"
   ]
  },
  {
   "cell_type": "markdown",
   "metadata": {},
   "source": [
    "### Reading the dataset\n",
    "\n",
    "We will use LibSVM formatted data, meaning that each line of the file (i.e. each example) will have the form\n",
    "\n",
    "<tt>class feature_number1:feature_value1 feature_number2:feature_value2 ... feature_number$n_i$:feature_value$n_i$ </tt>\n",
    "\n",
    "You may read such a file using MLUtils's <a href=\"http://spark.apache.org/docs/latest/api/python/pyspark.mllib.html#pyspark.mllib.util.MLUtils.loadLibSVMFile\">`loadLibSVMFile`</a> routine on the supervised classification datasets below.\n",
    "\n",
    "The elements of the produced RDD have the form of <a href=\"https://spark.apache.org/docs/latest/api/python/pyspark.mllib.html#pyspark.mllib.regression.LabeledPoint\">`LabeledPoints`</a> composed of a label `example.label` corresponding to the class (+1 or -1) and a feature vector `example.features` generally encoded as a <a href=\"https://spark.apache.org/docs/latest/api/python/pyspark.mllib.html#pyspark.mllib.linalg.SparseVector\">`SparseVector`</a>.\n"
   ]
  },
  {
   "cell_type": "code",
   "execution_count": 1,
   "metadata": {
    "collapsed": false
   },
   "outputs": [],
   "source": [
    "# set up spark environment (using Spark local mode set to # cores on your machine)\n",
    "from pyspark import SparkContext, SparkConf\n",
    "\n",
    "conf = SparkConf()\n",
    "conf.setMaster(\"local[*]\")\n",
    "conf.setAppName(\"MSIAM part II - Logistic Regression\")\n",
    "\n",
    "sc = SparkContext(conf = conf)"
   ]
  },
  {
   "cell_type": "markdown",
   "metadata": {},
   "source": [
    "We remind you that you can access this interface (Spark UI) by simply opening http://localhost:4040 in a web browser."
   ]
  },
  {
   "cell_type": "code",
   "execution_count": 2,
   "metadata": {
    "collapsed": true
   },
   "outputs": [],
   "source": [
    "# path to LibSVM Datasets\n",
    "LibSVMHomeDir=\"data/LibSVM/\"\n",
    "LibName=\"ionosphere.txt\"             # a small dataset to begin with\n",
    "#LibName=\"rcv1_train.binary\"          # a bigger one "
   ]
  },
  {
   "cell_type": "markdown",
   "metadata": {},
   "source": [
    "__Question 1__\n",
    "> Form an RDD from the selected dataset.\n",
    "\n",
    "> Count the number of examples, features, the number of examples of class '+1' and the density of the dataset."
   ]
  },
  {
   "cell_type": "code",
   "execution_count": 3,
   "metadata": {
    "collapsed": false
   },
   "outputs": [
    {
     "name": "stdout",
     "output_type": "stream",
     "text": [
      "Number of examples:  351\n",
      "The number of features is :  34\n",
      "The number of examples of class +1 is :  225\n",
      "Density : 0.884112619406737\n"
     ]
    }
   ],
   "source": [
    "from pyspark.mllib.stat import KernelDensity\n",
    "from pyspark.mllib.util import MLUtils\n",
    "from pyspark.mllib.regression import LabeledPoint\n",
    "from pyspark.mllib.stat import Statistics\n",
    "import os.path\n",
    "\n",
    "path = os.path.join(LibSVMHomeDir,LibName)\n",
    "data = MLUtils.loadLibSVMFile(sc,path)\n",
    "\n",
    "def nbExamples(rdd) :\n",
    "    return rdd.count()\n",
    "def nbFeatures(rdd) :\n",
    "    nbFeatures = rdd.map(lambda line : line.features.size).sum()\n",
    "    return int(nbFeatures/rdd.count())\n",
    "def density(rdd) :\n",
    "    nbFeatures = rdd.map(lambda line : line.features.size).sum()\n",
    "    nonZeros = data.map(lambda line: line.features.numNonzeros()).sum()\n",
    "    return nonZeros/nbFeatures\n",
    "\n",
    "print(\"Number of examples: \",nbExamples(data))\n",
    "print(\"The number of features is : \",nbFeatures(data))\n",
    "nbClassPlus1Examples = data.map(lambda line: line.label).filter(lambda s : float(s) == 1)\n",
    "print(\"The number of examples of class +1 is : \",nbExamples(nbClassPlus1Examples))\n",
    "print(\"Density :\",density(data))"
   ]
  },
  {
   "cell_type": "markdown",
   "metadata": {},
   "source": [
    "### Preprocessing\n",
    "\n",
    "An important first step for learning by regression is to preprocess the dataset. This processing usually consists in:\n",
    "* Adding an intercept, that is an additional feature equal to one for all examples (statistically, this accounts for the fact that the two classes may be imbalanced).\n",
    "* For the dense datasets:\n",
    "    *  normalize to have zero-mean and unit variance for every feature (except the interecept for instance.\n",
    "* For sparse datasets:\n",
    "    * normalize so that the feature vector has unit $\\ell_2$ norm for each example.\n",
    "\n",
    "This does not really change the problem but it will ease the convergence of the applied optimization algorithms.\n",
    "\n",
    "__Question 2__\n",
    "> Form a new RDD with the scaled version of the dataset.\n",
    "\n",
    "> Check that the number of examples, features, and the density is correct."
   ]
  },
  {
   "cell_type": "code",
   "execution_count": 4,
   "metadata": {
    "collapsed": false
   },
   "outputs": [
    {
     "name": "stdout",
     "output_type": "stream",
     "text": [
      "Number of examples in the dataset : 351 \n",
      "Number of examples in normalized data : 351\n",
      "\n",
      "Number of features in the dataset : 34 \n",
      "Number of features in normalized data : 35\n",
      "\n",
      "Density of the dataset : 0.884112619406737 \n",
      "Density of the normalized dataset : 0.8588522588522588\n"
     ]
    }
   ],
   "source": [
    "from pyspark.mllib.feature import Normalizer\n",
    "from pyspark.mllib.util import *\n",
    "\n",
    "normalizedData = data.map(lambda line : LabeledPoint(line.label,Normalizer().transform(line.features.toArray())))\n",
    "scaledNormData = normalizedData.map(lambda line : LabeledPoint(line.label,np.append(line.features.toArray(),1)))\n",
    "\n",
    "print(\"Number of examples in the dataset :\",nbExamples(data),\"\\n\\\n",
    "Number of examples in normalized data :\",nbExamples(scaledNormData))\n",
    "\n",
    "print(\"\\nNumber of features in the dataset :\",nbFeatures(data),\"\\n\\\n",
    "Number of features in normalized data :\",nbFeatures(scaledNormData))\n",
    "\n",
    "print(\"\\nDensity of the dataset :\",density(data),\"\\n\\\n",
    "Density of the normalized dataset :\",density(scaledNormData))"
   ]
  },
  {
   "cell_type": "markdown",
   "metadata": {},
   "source": [
    "#  Initialization\n",
    "\n",
    "We will set up here the variables, and the training versus testing dataset. Indeed, we will take a portion of the dataset to learn called the `learning set`, say $95$%, and we will test our predictions on the rest, the `testing set`."
   ]
  },
  {
   "cell_type": "markdown",
   "metadata": {},
   "source": [
    "__Question 3__\n",
    "\n",
    ">  Split the scaled dataset into a training and a testing set. For instance, you may use the function <a href=\"http://spark.apache.org/docs/latest/api/python/pyspark.html#pyspark.RDD.randomSplit\">`randomSplit`</a>.\n",
    "\n",
    "> Count the number of examples, and subjects in class '+1' in each set."
   ]
  },
  {
   "cell_type": "code",
   "execution_count": 5,
   "metadata": {
    "collapsed": false
   },
   "outputs": [
    {
     "name": "stdout",
     "output_type": "stream",
     "text": [
      "The number of examples in the dataset :  351\n",
      "The number of examples in the training dataset :  327\n",
      "The number of examples in the testing dataset :  24\n",
      "\n",
      "The number of examples in class +1 dataset :  225\n",
      "The number of examples in class +1 training dataset :  208\n",
      "The number of examples in class +1 testing dataset:  17\n"
     ]
    }
   ],
   "source": [
    "trainingData, testingData = scaledNormData.randomSplit([95, 5])\n",
    "print(\"The number of examples in the dataset : \",nbExamples(scaledNormData))\n",
    "print(\"The number of examples in the training dataset : \",nbExamples(trainingData))\n",
    "print(\"The number of examples in the testing dataset : \",nbExamples(testingData))\n",
    "\n",
    "classPlus1Data = scaledNormData.filter(lambda line : line.label == 1)\n",
    "classPlus1TrainingData = trainingData.filter(lambda line : line.label == 1)\n",
    "classPlus1TestingData = testingData.filter(lambda line : line.label == 1)\n",
    "print(\"\\nThe number of examples in class +1 dataset : \",nbExamples(classPlus1Data))\n",
    "print(\"The number of examples in class +1 training dataset : \",nbExamples(classPlus1TrainingData))\n",
    "print(\"The number of examples in class +1 testing dataset: \",nbExamples(classPlus1TestingData))"
   ]
  },
  {
   "cell_type": "markdown",
   "metadata": {},
   "source": [
    "#  Minimization of the logistic loss with the Gradient algorithm\n",
    "\n",
    "The goal of this section is to: \n",
    "1. Compute gradients of the loss functions.\n",
    "2. Implement a Gradient algorithm.\n",
    "3. Observe the prediction accuracy of the developed methods."
   ]
  },
  {
   "cell_type": "markdown",
   "metadata": {},
   "source": [
    "__Question 4__\n",
    ">Define a routine computing functional loss and gradient from one example \n",
    "\n",
    "For a Labeled point <tt>example</tt> (`LabeledPoint(example.label,example.features)`) that we denoted $(b_i,a_i)$ and a regressor <tt>x</tt>, compute $f_i(x) = \\log(1+\\exp(-b_i \\langle a_i,x\\rangle) )$ and $\\nabla f_i(x)$.\n"
   ]
  },
  {
   "cell_type": "code",
   "execution_count": 36,
   "metadata": {
    "collapsed": false
   },
   "outputs": [
    {
     "name": "stdout",
     "output_type": "stream",
     "text": [
      "The logistic loss for the first example is :\n",
      " 0.7921223455034204\n"
     ]
    }
   ],
   "source": [
    "from math import *\n",
    "from random import *\n",
    "\n",
    "import numpy as np\n",
    "def logistic_loss_per_example(example,x):\n",
    "    \"\"\" Computes the logistic loss for a Labeled point\n",
    "    Args:\n",
    "        example: a labeled point\n",
    "        x: regressor\n",
    "    Returns:\n",
    "        real value: l \n",
    "    \"\"\"\n",
    "    f = log(1 + exp(-1 * example.label * np.dot(example.features,x)))\n",
    "\n",
    "    return f\n",
    "\n",
    "def randomArray(size) :\n",
    "    x = np.zeros(size)\n",
    "    for i in range(1,size) :\n",
    "        x[i] = uniform(-10,10)\n",
    "    return x\n",
    "\n",
    "size = trainingData.first().features.size\n",
    "testLoss = trainingData.map(lambda line : logistic_loss_per_example(line,randomArray(size)))\n",
    "print(\"The logistic loss for the first example is :\\n\",testLoss.first())"
   ]
  },
  {
   "cell_type": "code",
   "execution_count": 7,
   "metadata": {
    "collapsed": false
   },
   "outputs": [
    {
     "name": "stdout",
     "output_type": "stream",
     "text": [
      "The logistic grad for the first example is :\n",
      " [-0.113147712862,-0.0,-0.112626101906,0.00666326881046,-0.0964505048752,-0.0026091862586,-0.0943629295729,0.0426657395661,-0.113147712862,-0.00425435400362,-0.0964505048752,0.0200893764187,-0.0676114158209,0.050854239546,-0.0684950994583,0.0432484502874,-0.0954468846621,0.0436093914914,-0.0658655466114,0.0364245117246,-0.0644613834948,0.0335754523148,-0.0418035539941,0.0535833623802,-0.0642803471542,0.0578988161488,-0.0464788174896,0.0522380360743,-0.0240619926173,0.0385720553148,-0.0478241437955,0.0616507943073,-0.0210918651547,0.0512559139266,-0.363304615333]\n"
     ]
    }
   ],
   "source": [
    "import numpy as np\n",
    "def logistic_grad_per_example(example,x):\n",
    "    \"\"\" Computes the logistic gradient for a Labeled point\n",
    "    Args:\n",
    "        example: a labeled point\n",
    "        x: regressor\n",
    "    Returns:\n",
    "        numpy array: g \n",
    "    \"\"\"\n",
    "    g = (-1 * example.label * example.features)/(1 + exp(example.label * np.dot(example.features,x)))\n",
    "    return  g\n",
    "\n",
    "testGradientLoss = trainingData.map(lambda line : logistic_grad_per_example(line,randomArray(size)))\n",
    "print(\"The logistic grad for the first example is :\\n\",testGradientLoss.first())"
   ]
  },
  {
   "cell_type": "markdown",
   "metadata": {},
   "source": [
    "__Question 5__\n",
    ">Implement a gradient descent algorithm to minimize\n",
    "\\begin{align*}\n",
    "\\min_{x\\in\\mathbb{R}^d } f(x) := \\frac{1}{m}  \\sum_{i=1}^m  \\log( 1+\\exp(-b_i \\langle a_i,x \\rangle) ) = \\frac{1}{m}  \\sum_{i=1}^m f_i(x).\n",
    "\\end{align*}\n",
    ">by \n",
    "* defining a function taking a stepsize and a maximal number of iterations and returning the final point as well as the value of $f(x)$ at each iteration. \n",
    "* running `x, f_tab = grad_algo(gamma,MAX_ITE)`\n",
    "\n",
    "\n",
    "For the choice of the stepsize, we help you by provinding you an upper bound on the Lipschitz constant $L$ of $\\nabla f$:\n",
    "\n",
    "$ L \\leq L_b = \\max_i 0.25 \\|a_i\\|_2^2$."
   ]
  },
  {
   "cell_type": "code",
   "execution_count": 8,
   "metadata": {
    "collapsed": false
   },
   "outputs": [
    {
     "name": "stdout",
     "output_type": "stream",
     "text": [
      "Limite : 1.9999999999999996\n"
     ]
    }
   ],
   "source": [
    "import numpy as np\n",
    "def compute_gamma1():\n",
    "    Lb = 0.25 * trainingData.map(lambda line : pow(np.linalg.norm(line.features,2),2)).max()\n",
    "    return 1/Lb\n",
    "print(\"Limite :\",compute_gamma1())"
   ]
  },
  {
   "cell_type": "code",
   "execution_count": 9,
   "metadata": {
    "collapsed": false
   },
   "outputs": [
    {
     "name": "stdout",
     "output_type": "stream",
     "text": [
      "0 1 2 3 4 5 6 7 8 9 10 11 12 13 14 15 16 17 18 19 \n",
      "x = [  6.18618019e-01   2.04625867e-01   1.25913136e+00   7.57623539e-01\n",
      "   9.63885228e-01   9.82941423e-01   1.18659841e+00   7.13369003e-01\n",
      "   6.13569197e-01   1.00671108e+00   3.14387711e-01   8.98104604e-01\n",
      "   5.65952111e-01   1.05845950e+00   8.32895829e-01   5.92976025e-01\n",
      "   1.12029234e-03   9.24007387e-01   1.52055103e-01  -1.62772460e-03\n",
      "   1.57075998e-01   2.00462962e-01   5.45183998e-01   5.30318196e-01\n",
      "   5.80935578e-01  -1.65032973e-01  -3.95775474e-02  -1.47825785e-01\n",
      "   1.13788316e+00   5.07404916e-01   4.47909992e-01   3.67557143e-01\n",
      "   4.06552629e-01   5.04369289e-01  -8.43226976e-01] \n",
      "f_tab = [ 0.57529938  0.55951044  0.54850166  0.53916054  0.53055754  0.52242952\n",
      "  0.51469355  0.50731317  0.50026429  0.49352669  0.48708199  0.48091306\n",
      "  0.4750039   0.46933951  0.46390588  0.45868988  0.45367927  0.44886258\n",
      "  0.4442291   0.43976882]\n"
     ]
    }
   ],
   "source": [
    "def grad_algo(gamma, MAX_ITER):\n",
    "    i = 0\n",
    "    x = randomArray(size)\n",
    "    m = trainingData.count()\n",
    "    f_tab = np.zeros(MAX_ITER)\n",
    "    while i < MAX_ITER:\n",
    "        print(i, end=' ')\n",
    "        f = trainingData.map(lambda line : (1/m) * logistic_grad_per_example(line,x)).sum()\n",
    "        f_tab[i] = trainingData.map(lambda line : (1/m) * logistic_loss_per_example(line,x)).sum()\n",
    "        x = x - gamma * f    \n",
    "        i += 1\n",
    "    return x, f_tab\n",
    "\n",
    "MAX_ITER = 20\n",
    "x, f_tab = grad_algo(compute_gamma1(),MAX_ITER)\n",
    "print(\"\\nx =\",x,\"\\nf_tab =\",f_tab)"
   ]
  },
  {
   "cell_type": "markdown",
   "metadata": {},
   "source": [
    "__Question 6__\n",
    "\n",
    "> Plot the functional value versus the iterations.\n",
    "\n",
    "> Investigate if the computations are distributed over different threads."
   ]
  },
  {
   "cell_type": "code",
   "execution_count": 13,
   "metadata": {
    "collapsed": false
   },
   "outputs": [
    {
     "data": {
      "image/png": "[encoded data removed]",
      "text/plain": [
       "<matplotlib.figure.Figure at 0x7f830d003c18>"
      ]
     },
     "metadata": {},
     "output_type": "display_data"
    }
   ],
   "source": [
    "import matplotlib.pyplot as plt\n",
    "%matplotlib inline  \n",
    "\n",
    "MAX_ITER = 20\n",
    "plt.figure()\n",
    "plt.plot(range(MAX_ITER), f_tab, color=\"red\", linewidth=1.0, linestyle=\"-\")\n",
    "plt.xlim(0, MAX_ITER)\n",
    "plt.xlabel('Number of iterations')\n",
    "plt.ylabel('Functional value')\n",
    "plt.show()"
   ]
  },
  {
   "cell_type": "markdown",
   "metadata": {},
   "source": [
    "# Regularized logisitic regression\n",
    "\n",
    "In addition to the loss, it is usual to add a regularization term of the form\n",
    "$$ r(x) = \\lambda_1 \\|x\\|_1 + \\lambda_2 \\|x\\|^2_2 $$\n",
    "\n",
    "The first part promotes sparsity of the iterates while the second part prevents over-fitting. \n",
    "This kind of regularization is often called:\n",
    "- *elastic-net* when $ \\lambda_1$ and $ \\lambda_2$ are non-null\n",
    "- $\\ell_1$ when $\\lambda_2 = 0$\n",
    "- *Tikhonov* when $\\lambda_1 = 0$\n",
    "\n",
    "The full optimization problems now writes\n",
    "\\begin{align*}\n",
    "\\min_{x\\in\\mathbb{R}^d } g(x) =  \\frac{1}{m}  \\sum_{i=1}^m  \\log( 1+\\exp(-b_i \\langle a_i,x \\rangle) ) +  \\lambda_1 \\|x\\|_1 + \\lambda_2 \\|x\\|^2_2\n",
    "\\end{align*}\n",
    "\n",
    "\n",
    "__Question 7__\n",
    "\n",
    "> Which part of $g$ is smooth, which part is not? Write $g$ as \n",
    "$$ g(x) =  \\frac{1}{m}  \\sum_{i=1}^m s_i(x) + n(x)  $$\n",
    "where the $(s_i)$ are smooth function and $n$ is non smooth.\n",
    "\n",
    "> ----------------------------------------------------------------------------------------------------------------\n",
    "\n",
    ">      --> \\lambda_1 \\|x\\|_1 is not differentiable at 0 --> not smooth function\n",
    "\n",
    ">      The reasons for regularization are \n",
    "\n",
    ">       1) to avoid overfitting by not generating high coefficients for predictors that are sparse.  \n",
    "\n",
    ">       2) to stabilize the estimates especially when there's collinearity in the data.  \n",
    "\n",
    "> ----------------------------------------------------------------------------------------------------------------\n",
    "\n",
    "> Define a function `regularized_logistic_grad_per_example(examples,x)` returning the gradient of the smooth part per example (i.e. $\\nabla s_i(x)$)\n",
    "\n",
    "> Define a function `n_prox(x,gamma)` returning the proximal operator of the non-smooth part (i.e. $\\mathbf{prox}_{\\gamma n}(y)$)\n",
    "\n",
    "we recall that\n",
    "$$ \\mathbf{prox}_{\\gamma n}(y) = \\arg\\min_x\\left\\{ n(x) + \\frac{1}{2\\gamma} \\|x-y\\|_2^2 \\right\\} $$"
   ]
  },
  {
   "cell_type": "code",
   "execution_count": 19,
   "metadata": {
    "collapsed": false
   },
   "outputs": [
    {
     "name": "stdout",
     "output_type": "stream",
     "text": [
      "The regularized logistic grad for the first example is :\n",
      " [-0.058109814261,0.276805986744,0.278452291538,0.752278017217,0.248474035488,0.00713108154391,0.411298636347,0.802408445504,0.55403056682,0.181796943056,-0.0170034118715,0.624015976556,0.644579479934,0.132997732322,0.228958610712,0.17065538704,0.49925850892,0.955168926468,0.13022521648,0.850257746067,0.612822553767,0.453847169807,0.460085072405,0.546362122113,0.579207082683,0.977558772779,0.816332614093,0.184671459681,0.34736135551,0.257659641429,0.444703814265,0.252295390094,0.767819367038,0.991105006441,0.771586341388] \n",
      "\n",
      "The proximal operator of the non-smooth part is :\n",
      " [ 0.          0.          0.          0.14885593  0.          0.          0.\n",
      "  0.1804964   0.01214038  0.          0.          0.01369858  0.079303    0.\n",
      "  0.          0.          0.          0.33277224  0.          0.23155103\n",
      "  0.0459283   0.          0.          0.          0.01221985  0.3478234\n",
      "  0.24020296  0.          0.          0.          0.          0.\n",
      "  0.17865162  0.36478126  0.35817044]\n"
     ]
    }
   ],
   "source": [
    "import numpy as np\n",
    "# Part I\n",
    "m = trainingData.count()\n",
    "def regularized_logistic_grad_per_example(examples,x,lambda2):\n",
    "    return logistic_grad_per_example(examples,x) + 2 * lambda2 * x \n",
    "\n",
    "testRegularizedGradientLoss = trainingData.map(lambda line : regularized_logistic_grad_per_example(line,randomArray(size),0.5))\n",
    "print(\"The regularized logistic grad for the first example is :\\n\",testRegularizedGradientLoss.first(),\"\\n\")\n",
    "\n",
    "# Part II\n",
    "def n_prox(x,gamma):\n",
    "    res = np.zeros(size)\n",
    "    for i in range(1,size):\n",
    "        if x[i] > gamma :\n",
    "            res[i] = x[i] - gamma\n",
    "        elif x[i] < -gamma :\n",
    "            res[i] = x[i] + gamma\n",
    "        else :\n",
    "            res[i] = 0\n",
    "    return res\n",
    "print(\"The proximal operator of the non-smooth part is :\\n\",n_prox(randomArray(size),0.6))\n"
   ]
  },
  {
   "cell_type": "markdown",
   "metadata": {},
   "source": [
    "__Question 8__\n",
    "\n",
    "> Compute a proximal gradient algorithm for computing a solution of\n",
    "$$ \\min_x  f(x) + r(x) = \\frac{1}{m}  \\sum_{i=1}^m  \\log( 1+\\exp(-b_i \\langle a_i,x \\rangle) ) + \\lambda_1 \\|x\\|_1 + \\lambda_2 \\|x\\|^2_2 $$\n",
    "\n",
    "\n",
    "Hint: An admissible stepsize can be found by taking $\\gamma = 1/L_{b2}$ with  $ L_b = \\max_i 0.25 \\|a_i\\|_2^2 + 2\\lambda_2$."
   ]
  },
  {
   "cell_type": "code",
   "execution_count": 47,
   "metadata": {
    "collapsed": false
   },
   "outputs": [
    {
     "name": "stdout",
     "output_type": "stream",
     "text": [
      "Gamma value : 0.6666666666666666 \n",
      "\n",
      "[ 0.         -0.92917961 -4.95706055 -3.440161   -2.82428766  1.0843283\n",
      "  2.0890269   4.73625516 -3.08754987  3.76401299  2.52697832  1.77672073\n",
      "  1.21001879 -0.40458362  2.01437621  2.56910292 -4.14071857  3.72355035\n",
      "  3.1501019  -2.5661818   1.92568725  2.68314947  2.71594789  3.10018241\n",
      "  2.60786115 -0.4731802  -0.9361815  -1.2784606  -0.67149786 -0.17836144\n",
      "  3.383532   -2.8290206   0.20946375  4.48031524  0.69691422]\n"
     ]
    }
   ],
   "source": [
    "# Part I\n",
    "MAX_ITER = 20\n",
    "def compute_gamma2(lambda2):\n",
    "    Lb = 0.25 * trainingData.map(lambda line : pow(np.linalg.norm(line.features,2),2)).max() \\\n",
    "        + lambda2 * 2 \n",
    "    return 1/Lb\n",
    "print(\"Gamma value :\",compute_gamma2(0.5),\"\\n\")\n",
    "\n",
    "# Part II\n",
    "def prox_grad_algo(lambda1,lambda2):\n",
    "    i = 0\n",
    "    gamma = compute_gamma2(lambda2)\n",
    "    x = randomArray(size)\n",
    "    g_tab = np.zeros(MAX_ITER)\n",
    "    while i < MAX_ITER:\n",
    "        print(i, end=' ')\n",
    "        g = trainingData.map(lambda line : (1/m) * regularized_logistic_grad_per_example(line,x,lambda2)).sum()\n",
    "        g_tab[i] = trainingData.map(lambda line : (1/m) * logistic_loss_per_example(line,x)).sum() + \\\n",
    "                                    lambda1 * np.linalg.norm(x,1) + lambda2 * pow(np.linalg.norm(x,2),2)\n",
    "        #if lambda1 == 0 :\n",
    "        #    x = x - gamma * g\n",
    "        #else :\n",
    "        x = n_prox(x - gamma * g,lambda1*gamma) \n",
    "        i += 1\n",
    "    return x, g_tab\n",
    "\n",
    "print(randomArray(size))\n",
    "#x, g_tab = prox_grad_algo(0,0)\n",
    "#print(\"\\nx =\",x,\"\\nf_tab =\",g_tab)"
   ]
  },
  {
   "cell_type": "markdown",
   "metadata": {},
   "source": [
    "__Question 9__\n",
    "\n",
    "> Examine the behavior and output of your proximal gradient algorithm with different values of $\\lambda_1$, $\\lambda_2$. What do you observe in terms of sparsity of the solution and convergence rate of the algorithm?"
   ]
  },
  {
   "cell_type": "code",
   "execution_count": null,
   "metadata": {
    "collapsed": false
   },
   "outputs": [],
   "source": [
    "import matplotlib.pyplot as plt\n",
    "%matplotlib inline\n",
    "\n",
    "def compute_min(l1,l2):\n",
    "    x, g_tab = prox_grad_algo(l1,l2)\n",
    "    return x, g_tab\n",
    "\n",
    "lamb1 = [0,0.1,0,1]\n",
    "lamb2 = [0,0,1,1]\n",
    "for i in range(0,4):\n",
    "    x[i], g_tab[i] = compute_min(lamb1[i],lamb2[i])\n",
    "    print(\"\\n\")\n"
   ]
  },
  {
   "cell_type": "code",
   "execution_count": 46,
   "metadata": {
    "collapsed": false
   },
   "outputs": [
    {
     "name": "stdout",
     "output_type": "stream",
     "text": [
      "\n",
      "Courbe 2 [ green ]\n",
      "lambda1 = 0.1 \n",
      "lambda2 = 0 \n",
      "gamma = 1.9999999999999996\n"
     ]
    },
    {
     "data": {
      "image/png": "[encoded data removed]",
      "text/plain": [
       "<matplotlib.figure.Figure at 0x7f82d3769320>"
      ]
     },
     "metadata": {},
     "output_type": "display_data"
    }
   ],
   "source": [
    "def plot_res(x,g_tab,col):\n",
    "    plt.plot(range(MAX_ITER-1), g_tab[1:], col, linewidth=1.0, linestyle=\"-\")\n",
    "    \n",
    "colors = [\"red\", \"green\", \"blue\",\"black\"]\n",
    "plt.figure()\n",
    "for i in range(0,2):\n",
    "    print(\"\\nCourbe\", i+1, \"[\",colors[i],\"]\\nlambda1 =\", lamb1[i], \"\\nlambda2 =\",\\\n",
    "        lamb2[i], \"\\ngamma =\", compute_gamma2(lamb2[i]))\n",
    "    plot_res(x[i],g_tab[i],colors[i])\n",
    "plt.xlim(0, MAX_ITER)\n",
    "plt.xlabel('Number of iterations')\n",
    "plt.ylabel('Functional value')\n",
    "plt.show()"
   ]
  },
  {
   "cell_type": "markdown",
   "metadata": {
    "collapsed": true
   },
   "source": [
    "__Question 10__\n",
    "\n",
    "> Write a function that evaluates the accuracy of the classification on the training dataset.\n",
    "\n",
    "> Investigate how this accuracy change when playing with the regularization terms\n"
   ]
  },
  {
   "cell_type": "code",
   "execution_count": 17,
   "metadata": {
    "collapsed": false
   },
   "outputs": [
    {
     "name": "stdout",
     "output_type": "stream",
     "text": [
      "true_label :\n",
      " [1.0, -1.0, 1.0, -1.0, 1.0, -1.0, 1.0, -1.0, 1.0, -1.0, 1.0, -1.0, 1.0, -1.0, 1.0, -1.0, 1.0, -1.0, 1.0, -1.0, 1.0, -1.0, 1.0, -1.0, 1.0, -1.0, 1.0, -1.0, -1.0, 1.0, -1.0, 1.0, -1.0, 1.0, -1.0, 1.0, -1.0, 1.0, -1.0, 1.0, -1.0, 1.0, -1.0, 1.0, -1.0, 1.0, 1.0, -1.0, 1.0, -1.0, 1.0, -1.0, 1.0, -1.0, 1.0, -1.0, 1.0, -1.0, 1.0, -1.0, 1.0, -1.0, 1.0, -1.0, 1.0, -1.0, 1.0, -1.0, 1.0, -1.0, 1.0, -1.0, 1.0, -1.0, 1.0, -1.0, 1.0, -1.0, -1.0, 1.0, -1.0, 1.0, -1.0, 1.0, -1.0, 1.0, -1.0, 1.0, -1.0, 1.0, 1.0, 1.0, -1.0, 1.0, -1.0, 1.0, 1.0, -1.0, 1.0, -1.0, 1.0, -1.0, 1.0, -1.0, 1.0, -1.0, 1.0, -1.0, 1.0, -1.0, 1.0, -1.0, 1.0, -1.0, -1.0, 1.0, -1.0, 1.0, -1.0, 1.0, -1.0, 1.0, -1.0, 1.0, -1.0, 1.0, -1.0, 1.0, -1.0, 1.0, -1.0, 1.0, -1.0, 1.0, -1.0, 1.0, -1.0, 1.0, -1.0, 1.0, -1.0, 1.0, -1.0, 1.0, -1.0, 1.0, -1.0, 1.0, 1.0, -1.0, 1.0, -1.0, 1.0, -1.0, 1.0, -1.0, 1.0, -1.0, 1.0, -1.0, 1.0, -1.0, 1.0, -1.0, 1.0, 1.0, -1.0, 1.0, -1.0, 1.0, -1.0, 1.0, -1.0, 1.0, -1.0, 1.0, 1.0, -1.0, 1.0, -1.0, 1.0, -1.0, 1.0, -1.0, 1.0, 1.0, -1.0, 1.0, -1.0, 1.0, -1.0, 1.0, -1.0, 1.0, -1.0, 1.0, -1.0, 1.0, -1.0, 1.0, -1.0, 1.0, -1.0, 1.0, -1.0, 1.0, -1.0, 1.0, -1.0, 1.0, -1.0, 1.0, -1.0, 1.0, -1.0, 1.0, -1.0, 1.0, 1.0, -1.0, 1.0, -1.0, 1.0, -1.0, 1.0, -1.0, 1.0, -1.0, 1.0, 1.0, -1.0, 1.0, -1.0, 1.0, -1.0, 1.0, -1.0, 1.0, -1.0, 1.0, 1.0, 1.0, 1.0, 1.0, 1.0, 1.0, 1.0, 1.0, 1.0, 1.0, 1.0, 1.0, 1.0, 1.0, 1.0, 1.0, 1.0, 1.0, 1.0, 1.0, 1.0, 1.0, 1.0, 1.0, 1.0, 1.0, 1.0, 1.0, 1.0, 1.0, 1.0, 1.0, 1.0, 1.0, 1.0, 1.0, 1.0, 1.0, 1.0, 1.0, 1.0, 1.0, 1.0, 1.0, 1.0, 1.0, 1.0, 1.0, 1.0, 1.0, 1.0, 1.0, 1.0, 1.0, 1.0, 1.0, 1.0, 1.0, 1.0, 1.0, 1.0, 1.0, 1.0, 1.0, 1.0, 1.0, 1.0, 1.0, 1.0, 1.0, 1.0, 1.0, 1.0, 1.0, 1.0, 1.0, 1.0, 1.0, 1.0, 1.0, 1.0, 1.0, 1.0, 1.0, 1.0, 1.0, 1.0]\n",
      "test : 0 \n",
      " [0.0, 0.0, 0.0, 2.0, 0.0, 0.0, -2.0, 0.0, 0.0, 0.0, 0.0, 2.0, 0.0, 2.0, 0.0, 0.0, 0.0, 0.0, 0.0, 0.0, 0.0, 0.0, 0.0, 0.0, -2.0, 0.0, 0.0, 0.0, 2.0, 0.0, 2.0, 0.0, 2.0, 0.0, 0.0, 0.0, 2.0, 0.0, 0.0, 0.0, 2.0, 0.0, 0.0, 0.0, 0.0, 0.0, 0.0, 0.0, 0.0, 0.0, 0.0, 0.0, 0.0, 0.0, 0.0, 0.0, 0.0, 0.0, 0.0, 2.0, 0.0, 2.0, 0.0, 2.0, 0.0, 2.0, 0.0, 0.0, 0.0, 2.0, 0.0, 2.0, 0.0, 2.0, 0.0, 2.0, 0.0, 2.0, 2.0, 0.0, 2.0, 0.0, 2.0, 0.0, 2.0, 0.0, 0.0, 0.0, 2.0, 0.0, 0.0, 0.0, 0.0, 0.0, 0.0, 0.0, 0.0, 0.0, 0.0, 0.0, 0.0, 0.0, -2.0, 0.0, 0.0, 2.0, 0.0, 2.0, 0.0, 2.0, 0.0, 0.0, 0.0, 2.0, 2.0, 0.0, 0.0, 0.0, 2.0, 0.0, 0.0, 0.0, 2.0, 0.0, 2.0, 0.0, 2.0, 0.0, 0.0, 0.0, 0.0, 0.0, 0.0, 0.0, 2.0, 0.0, 2.0, 0.0, 0.0, 0.0, 2.0, 0.0, 0.0, 0.0, 0.0, 0.0, 0.0, 0.0, 0.0, 2.0, 0.0, 0.0, 0.0, 0.0, 0.0, 2.0, 0.0, 0.0, 0.0, 0.0, 0.0, 0.0, 0.0, 0.0, 0.0, 0.0, 0.0, 0.0, 2.0, 0.0, 2.0, 0.0, 0.0, -2.0, 0.0, 0.0, 0.0, 0.0, 0.0, 0.0, -2.0, 0.0, 0.0, 0.0, 0.0, 0.0, 0.0, 0.0, 2.0, -2.0, 0.0, 0.0, 0.0, 0.0, 0.0, 0.0, 0.0, 0.0, 0.0, 0.0, 0.0, 0.0, 2.0, 0.0, 2.0, 0.0, 0.0, 0.0, 0.0, 0.0, 2.0, 0.0, 0.0, 0.0, 2.0, 0.0, 2.0, 0.0, 0.0, 0.0, 0.0, 2.0, 0.0, 2.0, 0.0, 0.0, 0.0, 0.0, 0.0, 0.0, 2.0, 0.0, 2.0, 0.0, 0.0, 0.0, 2.0, 0.0, 0.0, 0.0, 0.0, 0.0, 0.0, 0.0, 0.0, 0.0, 0.0, 0.0, 0.0, 0.0, 0.0, 0.0, 0.0, 0.0, 0.0, 0.0, 0.0, 0.0, 0.0, 0.0, 0.0, 0.0, 0.0, 0.0, 0.0, 0.0, 0.0, 0.0, 0.0, 0.0, 0.0, 0.0, 0.0, 0.0, 0.0, 0.0, 0.0, 0.0, 0.0, 0.0, 0.0, 0.0, 0.0, 0.0, 0.0, 0.0, 0.0, 0.0, 0.0, 0.0, 0.0, 0.0, 0.0, 0.0, 0.0, 0.0, 0.0, 0.0, 0.0, 0.0, 0.0, 0.0, 0.0, 0.0, 0.0, 0.0, 0.0, 0.0, 0.0, 0.0, 0.0, 0.0, 0.0, 0.0, 0.0, 0.0, 0.0, -2.0, 0.0, 0.0, 0.0, 0.0, 0.0, 0.0, 0.0, 0.0, 0.0] \n",
      " x = \n",
      " [ 0.53510937  0.08602598  1.53474985  0.81863734  1.07387433  1.16288068\n",
      "  0.89573337  0.89957343  0.51614423  0.33836166  0.26579581  1.17297032\n",
      "  0.31781913  0.89646177  0.6239572   0.9308935   0.09830154  0.1629787\n",
      "  0.11966527 -0.0564775   0.87293106 -0.12479582  0.33701162  0.62089987\n",
      "  0.2612231   0.46003373 -0.39694385  0.18844469  0.8426073   0.44454568\n",
      "  0.42269245  0.4933965   1.11356829  0.45476997 -0.70186373] \n",
      "\n",
      "test : 1 \n",
      " [0.0, 0.0, 0.0, 2.0, 0.0, 0.0, -2.0, 0.0, 0.0, 0.0, 0.0, 2.0, 0.0, 2.0, 0.0, 0.0, 0.0, 0.0, 0.0, 0.0, 0.0, 0.0, 0.0, 0.0, 0.0, 0.0, 0.0, 0.0, 2.0, 0.0, 2.0, 0.0, 2.0, 0.0, 0.0, 0.0, 2.0, 0.0, 0.0, 0.0, 2.0, 0.0, 0.0, 0.0, 0.0, 0.0, 0.0, 0.0, 0.0, 0.0, 0.0, 0.0, 0.0, 0.0, 0.0, 0.0, 0.0, 0.0, 0.0, 2.0, 0.0, 2.0, 0.0, 2.0, 0.0, 2.0, 0.0, 0.0, 0.0, 2.0, 0.0, 2.0, 0.0, 2.0, 0.0, 2.0, 0.0, 2.0, 2.0, 0.0, 2.0, 0.0, 2.0, 0.0, 0.0, 0.0, 0.0, 0.0, 0.0, 0.0, 0.0, 0.0, 0.0, 0.0, 0.0, 0.0, 0.0, 0.0, 0.0, 0.0, 0.0, 0.0, -2.0, 0.0, 0.0, 2.0, 0.0, 2.0, 0.0, 2.0, 0.0, 0.0, 0.0, 2.0, 0.0, 0.0, 2.0, 0.0, 2.0, 0.0, 0.0, 0.0, 2.0, 0.0, 2.0, 0.0, 2.0, 0.0, 0.0, 0.0, 0.0, 0.0, 0.0, 0.0, 2.0, 0.0, 2.0, 0.0, 0.0, 0.0, 2.0, 0.0, 0.0, 0.0, 0.0, 0.0, 0.0, 0.0, 0.0, 2.0, 0.0, 0.0, 0.0, 2.0, 0.0, 2.0, 0.0, 0.0, 0.0, 0.0, 0.0, 0.0, 0.0, 0.0, 0.0, 0.0, 0.0, 0.0, 2.0, 0.0, 2.0, 0.0, 0.0, -2.0, 0.0, 0.0, 0.0, 0.0, 0.0, 0.0, -2.0, 0.0, 0.0, 0.0, 0.0, 0.0, 0.0, 0.0, 2.0, 0.0, 0.0, 0.0, 0.0, 0.0, 0.0, 0.0, 0.0, 0.0, 0.0, 0.0, 0.0, 0.0, 2.0, 0.0, 2.0, 0.0, 0.0, 0.0, 0.0, 0.0, 2.0, 0.0, 0.0, 0.0, 0.0, 0.0, 2.0, 0.0, 0.0, 0.0, 0.0, 2.0, 0.0, 2.0, 0.0, 0.0, 0.0, 0.0, 0.0, 0.0, 2.0, 0.0, 0.0, 0.0, 0.0, 0.0, 2.0, 0.0, 0.0, 0.0, 0.0, 0.0, 0.0, 0.0, 0.0, 0.0, 0.0, 0.0, 0.0, 0.0, 0.0, 0.0, 0.0, 0.0, 0.0, 0.0, 0.0, 0.0, 0.0, 0.0, 0.0, 0.0, 0.0, 0.0, 0.0, 0.0, 0.0, 0.0, 0.0, 0.0, 0.0, 0.0, 0.0, 0.0, 0.0, 0.0, 0.0, 0.0, 0.0, 0.0, 0.0, 0.0, 0.0, 0.0, 0.0, 0.0, 0.0, 0.0, 0.0, 0.0, 0.0, 0.0, 0.0, 0.0, 0.0, 0.0, 0.0, 0.0, 0.0, 0.0, 0.0, 0.0, 0.0, 0.0, 0.0, 0.0, 0.0, 0.0, 0.0, 0.0, 0.0, 0.0, 0.0, 0.0, 0.0, 0.0, 0.0, -2.0, 0.0, 0.0, 0.0, 0.0, 0.0, 0.0, 0.0, 0.0, 0.0] \n",
      " x = \n",
      " [ 0.50202024  0.93703872  1.41802397  0.42885395  1.16748587  0.82685152\n",
      "  0.90066436  1.27469669  0.45421708  0.56514136  0.27540792  1.0391297\n",
      "  0.30701746  0.50281287  0.06249168  0.6286709   0.63266796  0.89084797\n",
      "  0.02025652 -0.00585472  0.46377365  0.07626805  0.53944599  0.00699227\n",
      "  0.69027146 -0.13951336  0.07449812  0.15778987  1.10861766  0.76310105\n",
      "  0.68033957 -0.16085143  0.72007935  0.42663437 -0.81217024] \n",
      "\n",
      "test : 2 \n",
      " [0.0, 2.0, 0.0, 2.0, 0.0, 2.0, 0.0, 2.0, 0.0, 2.0, 0.0, 2.0, 0.0, 2.0, 0.0, 2.0, 0.0, 2.0, 0.0, 2.0, 0.0, 2.0, 0.0, 2.0, 0.0, 2.0, 0.0, 2.0, 2.0, 0.0, 2.0, 0.0, 2.0, 0.0, 2.0, 0.0, 2.0, 0.0, 2.0, 0.0, 2.0, 0.0, 2.0, 0.0, 2.0, 0.0, 0.0, 2.0, 0.0, 2.0, 0.0, 2.0, 0.0, 2.0, 0.0, 2.0, 0.0, 2.0, 0.0, 2.0, 0.0, 2.0, 0.0, 2.0, 0.0, 2.0, 0.0, 2.0, 0.0, 2.0, 0.0, 2.0, 0.0, 2.0, 0.0, 2.0, 0.0, 2.0, 2.0, 0.0, 2.0, 0.0, 2.0, 0.0, 2.0, 0.0, 2.0, 0.0, 2.0, 0.0, 0.0, 0.0, 2.0, 0.0, 2.0, 0.0, 0.0, 2.0, 0.0, 2.0, 0.0, 2.0, 0.0, 2.0, 0.0, 2.0, 0.0, 2.0, 0.0, 2.0, 0.0, 2.0, 0.0, 2.0, 2.0, 0.0, 2.0, 0.0, 2.0, 0.0, 2.0, 0.0, 2.0, 0.0, 2.0, 0.0, 2.0, 0.0, 2.0, 0.0, 2.0, 0.0, 2.0, 0.0, 2.0, 0.0, 2.0, 0.0, 2.0, 0.0, 2.0, 0.0, 2.0, 0.0, 2.0, 0.0, 2.0, 0.0, 0.0, 2.0, 0.0, 2.0, 0.0, 2.0, 0.0, 2.0, 0.0, 2.0, 0.0, 2.0, 0.0, 2.0, 0.0, 2.0, 0.0, 0.0, 2.0, 0.0, 2.0, 0.0, 2.0, 0.0, 2.0, 0.0, 2.0, 0.0, 0.0, 2.0, 0.0, 2.0, 0.0, 2.0, 0.0, 2.0, 0.0, 0.0, 2.0, 0.0, 2.0, 0.0, 2.0, 0.0, 2.0, 0.0, 2.0, 0.0, 2.0, 0.0, 2.0, 0.0, 2.0, 0.0, 2.0, 0.0, 2.0, 0.0, 2.0, 0.0, 2.0, 0.0, 2.0, 0.0, 2.0, 0.0, 2.0, 0.0, 2.0, 0.0, 0.0, 2.0, 0.0, 2.0, 0.0, 2.0, 0.0, 2.0, 0.0, 2.0, 0.0, 0.0, 2.0, 0.0, 2.0, 0.0, 2.0, 0.0, 2.0, 0.0, 2.0, 0.0, 0.0, 0.0, 0.0, 0.0, 0.0, 0.0, 0.0, 0.0, 0.0, 0.0, 0.0, 0.0, 0.0, 0.0, 0.0, 0.0, 0.0, 0.0, 0.0, 0.0, 0.0, 0.0, 0.0, 0.0, 0.0, 0.0, 0.0, 0.0, 0.0, 0.0, 0.0, 0.0, 0.0, 0.0, 0.0, 0.0, 0.0, 0.0, 0.0, 0.0, 0.0, 0.0, 0.0, 0.0, 0.0, 0.0, 0.0, 0.0, 0.0, 0.0, 0.0, 0.0, 0.0, 0.0, 0.0, 0.0, 0.0, 0.0, 0.0, 0.0, 0.0, 0.0, 0.0, 0.0, 0.0, 0.0, 0.0, 0.0, 0.0, 0.0, 0.0, 0.0, 0.0, 0.0, 0.0, 0.0, 0.0, 0.0, 0.0, 0.0, 0.0, 0.0, 0.0, 0.0, 0.0, 0.0, 0.0] \n",
      " x = \n",
      " [  2.97703531e-02   7.76652480e-15   3.00195070e-02   3.93072212e-03\n",
      "   3.01732068e-02   6.72199079e-03   2.59128704e-02   1.00663310e-02\n",
      "   1.91558426e-02   7.29902701e-03   1.52578572e-02   9.22472467e-03\n",
      "   1.54234992e-02   7.69527456e-03   1.54940694e-02   5.84409888e-03\n",
      "   1.06205624e-02   2.71709852e-03   1.18828326e-02   1.42828801e-03\n",
      "   1.56527813e-02  -4.30636073e-03   1.52672574e-02  -1.57455505e-03\n",
      "   1.50053541e-02  -2.14778429e-03   6.51906194e-03   6.46469631e-04\n",
      "   1.70742369e-02   3.86233723e-04   1.71486556e-02  -8.66273955e-04\n",
      "   1.58136139e-02  -1.53288942e-03   5.95047855e-02] \n",
      "\n",
      "test : 3 \n",
      " [0.0, 2.0, 0.0, 2.0, 0.0, 2.0, 0.0, 2.0, 0.0, 2.0, 0.0, 2.0, 0.0, 2.0, 0.0, 2.0, 0.0, 2.0, 0.0, 2.0, 0.0, 2.0, 0.0, 2.0, 0.0, 2.0, 0.0, 2.0, 2.0, 0.0, 2.0, 0.0, 2.0, 0.0, 2.0, 0.0, 2.0, 0.0, 2.0, 0.0, 2.0, 0.0, 2.0, 0.0, 2.0, 0.0, 0.0, 2.0, 0.0, 2.0, 0.0, 2.0, 0.0, 2.0, 0.0, 2.0, 0.0, 2.0, 0.0, 2.0, 0.0, 2.0, 0.0, 2.0, 0.0, 2.0, 0.0, 2.0, 0.0, 2.0, 0.0, 2.0, 0.0, 2.0, 0.0, 2.0, 0.0, 2.0, 2.0, 0.0, 2.0, 0.0, 2.0, 0.0, 2.0, 0.0, 2.0, 0.0, 2.0, 0.0, 0.0, 0.0, 2.0, 0.0, 2.0, 0.0, 0.0, 2.0, 0.0, 2.0, 0.0, 2.0, 0.0, 2.0, 0.0, 2.0, 0.0, 2.0, 0.0, 2.0, 0.0, 2.0, 0.0, 2.0, 2.0, 0.0, 2.0, 0.0, 2.0, 0.0, 2.0, 0.0, 2.0, 0.0, 2.0, 0.0, 2.0, 0.0, 2.0, 0.0, 2.0, 0.0, 2.0, 0.0, 2.0, 0.0, 2.0, 0.0, 2.0, 0.0, 2.0, 0.0, 2.0, 0.0, 2.0, 0.0, 2.0, 0.0, 0.0, 2.0, 0.0, 2.0, 0.0, 2.0, 0.0, 2.0, 0.0, 2.0, 0.0, 2.0, 0.0, 2.0, 0.0, 2.0, 0.0, 0.0, 2.0, 0.0, 2.0, 0.0, 2.0, 0.0, 2.0, 0.0, 2.0, 0.0, 0.0, 2.0, 0.0, 2.0, 0.0, 2.0, 0.0, 2.0, 0.0, 0.0, 2.0, 0.0, 2.0, 0.0, 2.0, 0.0, 2.0, 0.0, 2.0, 0.0, 2.0, 0.0, 2.0, 0.0, 2.0, 0.0, 2.0, 0.0, 2.0, 0.0, 2.0, 0.0, 2.0, 0.0, 2.0, 0.0, 2.0, 0.0, 2.0, 0.0, 2.0, 0.0, 0.0, 2.0, 0.0, 2.0, 0.0, 2.0, 0.0, 2.0, 0.0, 2.0, 0.0, 0.0, 2.0, 0.0, 2.0, 0.0, 2.0, 0.0, 2.0, 0.0, 2.0, 0.0, 0.0, 0.0, 0.0, 0.0, 0.0, 0.0, 0.0, 0.0, 0.0, 0.0, 0.0, 0.0, 0.0, 0.0, 0.0, 0.0, 0.0, 0.0, 0.0, 0.0, 0.0, 0.0, 0.0, 0.0, 0.0, 0.0, 0.0, 0.0, 0.0, 0.0, 0.0, 0.0, 0.0, 0.0, 0.0, 0.0, 0.0, 0.0, 0.0, 0.0, 0.0, 0.0, 0.0, 0.0, 0.0, 0.0, 0.0, 0.0, 0.0, 0.0, 0.0, 0.0, 0.0, 0.0, 0.0, 0.0, 0.0, 0.0, 0.0, 0.0, 0.0, 0.0, 0.0, 0.0, 0.0, 0.0, 0.0, 0.0, 0.0, 0.0, 0.0, 0.0, 0.0, 0.0, 0.0, 0.0, 0.0, 0.0, 0.0, 0.0, 0.0, 0.0, 0.0, 0.0, 0.0, 0.0, 0.0] \n",
      " x = \n",
      " [  2.97703531e-02   3.06919749e-15   3.00195070e-02   3.93072212e-03\n",
      "   3.01732068e-02   6.72199079e-03   2.59128704e-02   1.00663310e-02\n",
      "   1.91558426e-02   7.29902701e-03   1.52578572e-02   9.22472467e-03\n",
      "   1.54234992e-02   7.69527456e-03   1.54940694e-02   5.84409888e-03\n",
      "   1.06205624e-02   2.71709852e-03   1.18828326e-02   1.42828801e-03\n",
      "   1.56527813e-02  -4.30636073e-03   1.52672574e-02  -1.57455505e-03\n",
      "   1.50053541e-02  -2.14778429e-03   6.51906194e-03   6.46469631e-04\n",
      "   1.70742369e-02   3.86233724e-04   1.71486556e-02  -8.66273955e-04\n",
      "   1.58136139e-02  -1.53288942e-03   5.95047855e-02] \n",
      "\n",
      "erreur pour x[ 0 ] = 0.1712538226299694 \n",
      "\n",
      "erreur pour x[ 1 ] = 0.1559633027522936 \n",
      "\n",
      "erreur pour x[ 2 ] = 0.3547400611620795 \n",
      "\n",
      "erreur pour x[ 3 ] = 0.3547400611620795 \n",
      "\n"
     ]
    }
   ],
   "source": [
    "# Part 1\n",
    "training_size = trainingData.count()\n",
    "def diff_tableau(a,b):\n",
    "    s = a\n",
    "    for i in range(0,training_size):\n",
    "        s[i] = a[i] - b[i]\n",
    "    return s\n",
    "\n",
    "#Labelisation\n",
    "def p(x,example):\n",
    "      #  label = 0\n",
    "    p = 1/(1+exp(-1 * np.dot(example.features,x)))\n",
    "    if p > 0.5:\n",
    "        label = 1.0\n",
    "    else:\n",
    "        label = -1.0\n",
    "    return label\n",
    "\n",
    "# test\n",
    "train = trainingData\n",
    "def test_train(train,x):\n",
    "    return train.map(lambda line : p(x,line))\n",
    "\n",
    "diff = [0,0,0,0]\n",
    "true_label = train.map(lambda line: line.label)\n",
    "print(\"true_label :\\n\",true_label.collect())\n",
    "for i in range(0,4):\n",
    "    test = test_train(train,x[i])\n",
    "    diff[i] = diff_tableau(test.collect(),true_label.collect())\n",
    "    print(\"test :\",i,\"\\n\",diff_tableau(test.collect(),true_label.collect()),\"\\n x = \\n\",x[i],\"\\n\")\n",
    "\n",
    "# Part 2\n",
    "def pourcentage_erreur(diff):\n",
    "    return sum([abs(_i) for _i in diff]) /(2*training_size)\n",
    "\n",
    "erreur = [0,0,0,0]\n",
    "for i in range(0,4):\n",
    "    erreur[i] = pourcentage_erreur(diff[i])\n",
    "    print(\"erreur pour x[\",i,\"] =\",erreur[i],\"\\n\")"
   ]
  },
  {
   "cell_type": "markdown",
   "metadata": {},
   "source": [
    "# To go further\n",
    "\n",
    "\n"
   ]
  },
  {
   "cell_type": "markdown",
   "metadata": {},
   "source": [
    "### Accelerations\n",
    "\n",
    "A popular acceleration method to improve the convergence rate of proximal gradient algorithm is the addition of inertia. That is, contructing the next gradient input by a combination of the last two outputs.\n",
    "\n",
    "\n",
    "In particular, Nesterov's acceleration is the most popular form of inertia. It writes\n",
    "$$ \\left\\{ \\begin{array}{l}   y_{k+1} = \\mathbf{prox\\_grad}(x_k) \\\\ x_{k+1} = y_{k+1} + \\alpha_{k+1} (y_{k+1} - y_k)  \\end{array} \\right. $$ \n",
    "with\n",
    "* $\\mathbf{prox\\_grad}$ the proximal gradient operation\n",
    "* $(\\alpha_{k})$ the inertial sequence defined as $\\alpha_k = \\frac{t_k-1}{t_{k+1}}$ and $t_0 = 0$ and $t_{k+1} = \\frac{1+\\sqrt{1+4t_k^2}}{2}$\n",
    "\n",
    "__Question 11__\n",
    "\n",
    "> Implement a fast proximal gradient with this kind of inertia (This algorithm is often nicknamed FISTA).\n",
    "\n",
    "> Compare the convergence speed with the vanilla proximal gradient algorithm"
   ]
  },
  {
   "cell_type": "code",
   "execution_count": 25,
   "metadata": {
    "collapsed": false
   },
   "outputs": [
    {
     "name": "stdout",
     "output_type": "stream",
     "text": [
      "0 1 2 3 4 5 6 7 8 9 10 11 12 13 14 15 16 17 18 19 20 21 22 23 24 25 26 27 28 29 30 31 32 33 34 35 36 37 38 39 40 41 42 43 44 45 46 47 48 49 50 51 52 53 54 55 56 57 58 59 60 61 62 63 64 65 66 67 68 69 70 71 72 73 74 75 76 77 78 79 80 81 82 83 84 85 86 87 88 89 90 91 92 93 94 95 96 97 98 99 \n",
      "x = [-0.0929440408261,0.0,-0.0838210332828,-0.00926598996178,-0.083186733799,-0.0169225195089,-0.0727228170314,-0.0236599844043,-0.058119000405,-0.0198553632333,-0.0492245227492,-0.0227434489334,-0.0472883852994,-0.018312724868,-0.0461721916766,-0.0137815671576,-0.037213096962,-0.00537403796808,-0.0389572344975,-0.00170590954338,-0.0458296852216,0.0083395565557,-0.0456913817464,0.00480727043163,-0.0456190586598,0.00634672413928,-0.032276711508,0.00058489121323,-0.0492293272949,-7.57495173294e-05,-0.0490803780457,0.00218731323647,-0.0457876285274,0.00267720143475,-0.23758940736] \n",
      "h_tab = [ 0.16664556  0.18561123  0.31459995  0.34915818  0.34762094  0.34079363\n",
      "  0.33739856  0.33696969  0.33749519  0.33789803  0.33800329  0.33796368\n",
      "  0.33791317  0.33789348  0.33789515  0.33790148  0.33790486  0.33790516\n",
      "  0.3379044   0.33790385  0.33790373  0.33790381  0.3379039   0.33790393\n",
      "  0.33790392  0.33790391  0.3379039   0.3379039   0.3379039   0.3379039\n",
      "  0.3379039   0.3379039   0.3379039   0.3379039   0.3379039   0.3379039\n",
      "  0.3379039   0.3379039   0.3379039   0.3379039   0.3379039   0.3379039\n",
      "  0.3379039   0.3379039   0.3379039   0.3379039   0.3379039   0.3379039\n",
      "  0.3379039   0.3379039   0.3379039   0.3379039   0.3379039   0.3379039\n",
      "  0.3379039   0.3379039   0.3379039   0.3379039   0.3379039   0.3379039\n",
      "  0.3379039   0.3379039   0.3379039   0.3379039   0.3379039   0.3379039\n",
      "  0.3379039   0.3379039   0.3379039   0.3379039   0.3379039   0.3379039\n",
      "  0.3379039   0.3379039   0.3379039   0.3379039   0.3379039   0.3379039\n",
      "  0.3379039   0.3379039   0.3379039   0.3379039   0.3379039   0.3379039\n",
      "  0.3379039   0.3379039   0.3379039   0.3379039   0.3379039   0.3379039\n",
      "  0.3379039   0.3379039   0.3379039   0.3379039   0.3379039   0.3379039\n",
      "  0.3379039   0.3379039   0.3379039   0.3379039 ]\n"
     ]
    }
   ],
   "source": [
    "def FISTA_prox_grad_algo(lambda1,lambda2):\n",
    "    \n",
    "    t_kPlus1 = 1\n",
    "    \n",
    "    y_k = randomArray(size)\n",
    "    y_kPlus1 = randomArray(size)\n",
    "        \n",
    "    x = randomArray(size)\n",
    "\n",
    "    i = 0\n",
    "    h_tab = np.zeros(MAX_ITER)\n",
    "    gamma = compute_gamma2(lambda2)\n",
    "    \n",
    "    while i < MAX_ITER:\n",
    "        print(i, end =' ')\n",
    "        y_kPlus1 = trainingData.map(lambda line : (1/m) * regularized_logistic_grad_per_example(line,x,lambda2)).sum() \\\n",
    "                            + n_prox(lambda1 * x,gamma)\n",
    "        h_tab[i] = y_kPlus1.norm(2)\n",
    "        t_kPlus2 = (1 + sqrt(1 + 4 * t_kPlus1 * t_kPlus1)) / 2\n",
    "        alpha_kPlus1 = (t_kPlus1 - 1) / t_kPlus2\n",
    "        x = y_kPlus1 + alpha_kPlus1 * (y_kPlus1 - y_k)\n",
    "        \n",
    "        i += 1\n",
    "        y_k = y_kPlus1\n",
    "        t_kPlus1 = t_kPlus2\n",
    "    return x, h_tab\n",
    "MAX_ITER = 100\n",
    "x, h_tab = FISTA_prox_grad_algo(0,0)\n",
    "print(\"\\nx =\",x,\"\\nh_tab =\",h_tab)"
   ]
  },
  {
   "cell_type": "code",
   "execution_count": 23,
   "metadata": {
    "collapsed": false
   },
   "outputs": [
    {
     "data": {
      "image/png": "[encoded data removed]",
      "text/plain": [
       "<matplotlib.figure.Figure at 0x7fe30d2d5198>"
      ]
     },
     "metadata": {},
     "output_type": "display_data"
    }
   ],
   "source": [
    "colors = [\"red\", \"green\", \"blue\",\"black\"]\n",
    "plt.figure()\n",
    "#for i in range(0,4):\n",
    "#    print(\"\\nCourbe\", i+1, \"[\",colors[i],\"]\\nlambda1 =\", lamb1[i], \"\\nlambda2 =\",\\\n",
    "#        lamb2[i], \"\\ngamma =\", compute_gamma2(lamb2[i]))\n",
    "#    plot_res(x[i],g_tab[i],colors[i])\n",
    "plt.plot(range(MAX_ITER), h_tab, color=\"yellow\", linewidth=1.0, linestyle=\"-\")\n",
    "plt.xlim(0, MAX_ITER)\n",
    "plt.xlabel('Number of iterations')\n",
    "plt.ylabel('Functional value')\n",
    "plt.show()\n"
   ]
  },
  {
   "cell_type": "markdown",
   "metadata": {},
   "source": [
    "### Incremental methods\n",
    "\n",
    "When dimension increases, incremental algorithms are often priviledged. \n",
    "\n",
    "A possible incremental algorithm for a problem such as regularized logistic regression is MISO (see *J Mairal. Incremental Majorization-Minimization Optimization with Application to Large-Scale Machine Learning. SIAM Journal on Optimization,2015 and ICML 2014.*):\n",
    "\n",
    "* Draw randomly a sample $n$\n",
    "* Compute $x^n_{k+1} = \\mathbf{prox}_{\\gamma g} (\\bar{x}_k) - \\gamma \\nabla f_n(\\mathbf{prox}_{\\gamma g} (\\bar{x}_k) )$\n",
    "* For all $i\\neq n$, $x^i_{k+1}=x^i_k$ \n",
    "* Compute new $\\bar{x}_{k+1} = \\frac{1}{m} \\sum_{j=1}^m x^j_{k+1}$\n",
    " \n",
    "\n",
    "__Question 12__\n",
    "\n",
    "> Implement this incremental algorithm and compare with the previous algorithms in terms of convergence time and functional value versus number of passes over the data."
   ]
  },
  {
   "cell_type": "code",
   "execution_count": null,
   "metadata": {
    "collapsed": false
   },
   "outputs": [],
   "source": []
  }
 ],
 "metadata": {
  "kernelspec": {
   "display_name": "Python 3",
   "language": "python",
   "name": "python3"
  },
  "language_info": {
   "codemirror_mode": {
    "name": "ipython",
    "version": 3
   },
   "file_extension": ".py",
   "mimetype": "text/x-python",
   "name": "python",
   "nbconvert_exporter": "python",
   "pygments_lexer": "ipython3",
   "version": "3.5.2"
  }
 },
 "nbformat": 4,
 "nbformat_minor": 0
}
